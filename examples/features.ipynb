{
 "cells": [
  {
   "cell_type": "code",
   "execution_count": 4,
   "id": "a3e58abd-ccc7-4eaa-8a6c-f638ba293631",
   "metadata": {},
   "outputs": [],
   "source": [
    "import pandas as pd"
   ]
  },
  {
   "cell_type": "code",
   "execution_count": 5,
   "id": "4923d413-977d-4dd2-b47f-28db06385b1e",
   "metadata": {},
   "outputs": [
    {
     "data": {
      "text/html": [
       "<div>\n",
       "<style scoped>\n",
       "    .dataframe tbody tr th:only-of-type {\n",
       "        vertical-align: middle;\n",
       "    }\n",
       "\n",
       "    .dataframe tbody tr th {\n",
       "        vertical-align: top;\n",
       "    }\n",
       "\n",
       "    .dataframe thead th {\n",
       "        text-align: right;\n",
       "    }\n",
       "</style>\n",
       "<table border=\"1\" class=\"dataframe\">\n",
       "  <thead>\n",
       "    <tr style=\"text-align: right;\">\n",
       "      <th></th>\n",
       "      <th>time</th>\n",
       "      <th>open</th>\n",
       "      <th>high</th>\n",
       "      <th>low</th>\n",
       "      <th>close</th>\n",
       "      <th>volume</th>\n",
       "    </tr>\n",
       "  </thead>\n",
       "  <tbody>\n",
       "    <tr>\n",
       "      <th>0</th>\n",
       "      <td>2021-07-23 20:00:00</td>\n",
       "      <td>263.96</td>\n",
       "      <td>264.0000</td>\n",
       "      <td>263.51</td>\n",
       "      <td>263.92</td>\n",
       "      <td>2648</td>\n",
       "    </tr>\n",
       "    <tr>\n",
       "      <th>1</th>\n",
       "      <td>2021-07-23 19:00:00</td>\n",
       "      <td>263.62</td>\n",
       "      <td>263.6500</td>\n",
       "      <td>263.50</td>\n",
       "      <td>263.54</td>\n",
       "      <td>944</td>\n",
       "    </tr>\n",
       "    <tr>\n",
       "      <th>2</th>\n",
       "      <td>2021-07-23 18:00:00</td>\n",
       "      <td>264.00</td>\n",
       "      <td>264.1999</td>\n",
       "      <td>263.49</td>\n",
       "      <td>263.64</td>\n",
       "      <td>7922</td>\n",
       "    </tr>\n",
       "    <tr>\n",
       "      <th>3</th>\n",
       "      <td>2021-07-23 17:00:00</td>\n",
       "      <td>264.00</td>\n",
       "      <td>264.2000</td>\n",
       "      <td>263.80</td>\n",
       "      <td>264.20</td>\n",
       "      <td>134481</td>\n",
       "    </tr>\n",
       "    <tr>\n",
       "      <th>4</th>\n",
       "      <td>2021-07-23 16:00:00</td>\n",
       "      <td>263.95</td>\n",
       "      <td>264.4500</td>\n",
       "      <td>263.49</td>\n",
       "      <td>264.07</td>\n",
       "      <td>914940</td>\n",
       "    </tr>\n",
       "  </tbody>\n",
       "</table>\n",
       "</div>"
      ],
      "text/plain": [
       "                  time    open      high     low   close  volume\n",
       "0  2021-07-23 20:00:00  263.96  264.0000  263.51  263.92    2648\n",
       "1  2021-07-23 19:00:00  263.62  263.6500  263.50  263.54     944\n",
       "2  2021-07-23 18:00:00  264.00  264.1999  263.49  263.64    7922\n",
       "3  2021-07-23 17:00:00  264.00  264.2000  263.80  264.20  134481\n",
       "4  2021-07-23 16:00:00  263.95  264.4500  263.49  264.07  914940"
      ]
     },
     "execution_count": 5,
     "metadata": {},
     "output_type": "execute_result"
    }
   ],
   "source": [
    "data = pd.read_csv('data/SQ.csv')\n",
    "data.head()"
   ]
  },
  {
   "cell_type": "code",
   "execution_count": null,
   "id": "e7028372-553b-4487-9769-048afda3aa1a",
   "metadata": {},
   "outputs": [],
   "source": []
  }
 ],
 "metadata": {
  "kernelspec": {
   "display_name": "Python 3 (ipykernel)",
   "language": "python",
   "name": "python3"
  },
  "language_info": {
   "codemirror_mode": {
    "name": "ipython",
    "version": 3
   },
   "file_extension": ".py",
   "mimetype": "text/x-python",
   "name": "python",
   "nbconvert_exporter": "python",
   "pygments_lexer": "ipython3",
   "version": "3.9.6"
  }
 },
 "nbformat": 4,
 "nbformat_minor": 5
}

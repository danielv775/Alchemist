{
 "cells": [
  {
   "cell_type": "code",
   "execution_count": 9,
   "metadata": {},
   "outputs": [
    {
     "data": {
      "text/plain": "'/home/danilo/Dropbox/Dev/Alchemist'"
     },
     "execution_count": 9,
     "metadata": {},
     "output_type": "execute_result"
    }
   ],
   "source": [
    "from dotenv import load_dotenv\n",
    "load_dotenv()\n",
    "\n",
    "os.getcwd()"
   ]
  },
  {
   "cell_type": "code",
   "execution_count": 10,
   "metadata": {},
   "outputs": [],
   "source": [
    "#from data_loader import *\n",
    "from alchemist.src.etl.data_loader import *\n",
    "import requests\n",
    "import pandas as pd\n",
    "from datetime import datetime"
   ]
  },
  {
   "cell_type": "code",
   "execution_count": 11,
   "metadata": {},
   "outputs": [],
   "source": [
    "start = datetime(2019, 1, 1)\n",
    "end = datetime(2020, 12, 31)\n",
    "\n",
    "symbols = ['TSLA', 'AAPL']"
   ]
  },
  {
   "cell_type": "code",
   "execution_count": 13,
   "metadata": {},
   "outputs": [
    {
     "name": "stdout",
     "output_type": "stream",
     "text": [
      "Getting data fromt the web\n",
      "Pulling intraday time series data for time_slice: year1month1\n",
      "Pulling intraday time series data for time_slice: year1month2\n",
      "Current historic data shape: (672, 6)\n",
      "Pulling intraday time series data for time_slice: year1month1\n",
      "Pulling intraday time series data for time_slice: year1month2\n",
      "Current historic data shape: (338, 7)\n",
      "Data retrieved from web in 1.6596672534942627 seconds\n"
     ]
    },
    {
     "data": {
      "text/plain": "{'TSLA': 0                        Open      High       Low   Close   Volume\n Date                                                              \n 2021-06-09 05:00:00    603.72    605.95     602.8  604.15    11478\n 2021-06-09 06:00:00    602.73     603.0    602.73   603.0      878\n 2021-06-09 07:00:00    603.06     603.5    603.04   603.5      652\n 2021-06-09 08:00:00    604.85     606.2     603.8  604.49    38310\n 2021-06-09 09:00:00  605.1658  606.4198     602.2  604.15    84878\n ...                       ...       ...       ...     ...      ...\n 2021-08-06 16:00:00     700.4     700.7  698.0294  698.89  2334993\n 2021-08-06 17:00:00     699.1     699.1    698.01   698.5   578804\n 2021-08-06 18:00:00     698.5     698.5     697.7  697.76    38563\n 2021-08-06 19:00:00    697.98     698.0    697.75  697.85     9846\n 2021-08-06 20:00:00    697.81    697.97    696.85   697.0    29387\n \n [672 rows x 5 columns],\n 'AAPL': 0                             Open           High            Low  \\\n Date                                                               \n NaN                            NaN            NaN            NaN   \n NaN                            NaN            NaN            NaN   \n 2021-07-09 05:00:00  143.024689806  143.673712763  143.024689806   \n 2021-07-09 06:00:00  143.294283957  143.384148675     142.645261   \n 2021-07-09 07:00:00   142.78505056   142.78505056  142.335726975   \n ...                            ...            ...            ...   \n 2021-08-06 16:00:00         145.71         146.16         145.66   \n 2021-08-06 17:00:00         146.08         146.14         145.97   \n 2021-08-06 18:00:00          146.0         146.14         145.92   \n 2021-08-06 19:00:00         145.97         145.97          145.9   \n 2021-08-06 20:00:00         145.94         145.99         145.92   \n \n 0                            Close   Volume  \\\n Date                                          \n NaN                            NaN      NaN   \n NaN                            NaN      NaN   \n 2021-07-09 05:00:00  143.284298989    50027   \n 2021-07-09 06:00:00   142.78505056    50059   \n 2021-07-09 07:00:00  142.685200875    36764   \n ...                            ...      ...   \n 2021-08-06 16:00:00         146.14  8496186   \n 2021-08-06 17:00:00          146.0  2615264   \n 2021-08-06 18:00:00         145.94  1368182   \n 2021-08-06 19:00:00         145.95    18191   \n 2021-08-06 20:00:00         145.96    22769   \n \n 0                                                                    {  \n Date                                                                    \n NaN                                                                  }  \n NaN                      \"Note\": \"Thank you for using Alpha Vantage...  \n 2021-07-09 05:00:00                                                NaN  \n 2021-07-09 06:00:00                                                NaN  \n 2021-07-09 07:00:00                                                NaN  \n ...                                                                ...  \n 2021-08-06 16:00:00                                                NaN  \n 2021-08-06 17:00:00                                                NaN  \n 2021-08-06 18:00:00                                                NaN  \n 2021-08-06 19:00:00                                                NaN  \n 2021-08-06 20:00:00                                                NaN  \n \n [338 rows x 6 columns]}"
     },
     "execution_count": 13,
     "metadata": {},
     "output_type": "execute_result"
    }
   ],
   "source": [
    "# Loading intraday market data\n",
    "intraday_market_data = load_market_data(\n",
    "    symbols, \n",
    "    intraday=True, \n",
    "    months=2, \n",
    "    interval='60min', \n",
    "    invalidate_cache=True,\n",
    "    cache_folder=f\"{os.getcwd()}/alchemist/data\",    \n",
    "    )\n",
    "\n",
    "intraday_market_data\n"
   ]
  },
  {
   "cell_type": "code",
   "execution_count": 14,
   "metadata": {},
   "outputs": [
    {
     "name": "stdout",
     "output_type": "stream",
     "text": [
      "Getting data fromt the web\n",
      "Data retrieved from web in 1.984511375427246 seconds\n"
     ]
    },
    {
     "data": {
      "text/plain": "{'TSLA':                   High         Low        Open       Close      Volume  \\\n Date                                                                     \n 2019-01-02   63.026001   59.759998   61.220001   62.023998  58293000.0   \n 2019-01-03   61.880001   59.476002   61.400002   60.071999  34826000.0   \n 2019-01-04   63.599998   60.546001   61.200001   63.537998  36970500.0   \n 2019-01-07   67.348000   63.549999   64.344002   66.991997  37756000.0   \n 2019-01-08   68.802002   65.403999   68.391998   67.070000  35042500.0   \n ...                ...         ...         ...         ...         ...   \n 2020-12-24  666.090027  641.000000  642.989990  661.770020  22865600.0   \n 2020-12-28  681.400024  660.799988  674.510010  663.690002  32278600.0   \n 2020-12-29  669.900024  655.000000  661.000000  665.989990  22910800.0   \n 2020-12-30  696.599976  668.359985  672.000000  694.780029  42846000.0   \n 2020-12-31  718.719971  691.119995  699.989990  705.669983  49649900.0   \n \n              Adj Close  \n Date                    \n 2019-01-02   62.023998  \n 2019-01-03   60.071999  \n 2019-01-04   63.537998  \n 2019-01-07   66.991997  \n 2019-01-08   67.070000  \n ...                ...  \n 2020-12-24  661.770020  \n 2020-12-28  663.690002  \n 2020-12-29  665.989990  \n 2020-12-30  694.780029  \n 2020-12-31  705.669983  \n \n [505 rows x 6 columns],\n 'AAPL':                   High         Low        Open       Close       Volume  \\\n Date                                                                      \n 2019-01-02   39.712502   38.557499   38.722500   39.480000  148158800.0   \n 2019-01-03   36.430000   35.500000   35.994999   35.547501  365248800.0   \n 2019-01-04   37.137501   35.950001   36.132500   37.064999  234428400.0   \n 2019-01-07   37.207500   36.474998   37.174999   36.982498  219111200.0   \n 2019-01-08   37.955002   37.130001   37.389999   37.687500  164101200.0   \n ...                ...         ...         ...         ...          ...   \n 2020-12-24  133.460007  131.100006  131.320007  131.970001   54930100.0   \n 2020-12-28  137.339996  133.509995  133.990005  136.690002  124486200.0   \n 2020-12-29  138.789993  134.339996  138.050003  134.869995  121047300.0   \n 2020-12-30  135.990005  133.399994  135.580002  133.720001   96452100.0   \n 2020-12-31  134.740005  131.720001  134.080002  132.690002   99116600.0   \n \n              Adj Close  \n Date                    \n 2019-01-02   38.382229  \n 2019-01-03   34.559078  \n 2019-01-04   36.034370  \n 2019-01-07   35.954170  \n 2019-01-08   36.639565  \n ...                ...  \n 2020-12-24  131.352829  \n 2020-12-28  136.050766  \n 2020-12-29  134.239273  \n 2020-12-30  133.094650  \n 2020-12-31  132.069473  \n \n [505 rows x 6 columns]}"
     },
     "execution_count": 14,
     "metadata": {},
     "output_type": "execute_result"
    }
   ],
   "source": [
    "\n",
    "\n",
    "# Loading daily market data\n",
    "daily_market_data = load_market_data(\n",
    "    symbols, \n",
    "    start,\n",
    "     end, \n",
    "    invalidate_cache=True,\n",
    "    cache_folder=f\"{os.getcwd()}/alchemist/data\",    \n",
    ")\n",
    "\n",
    "daily_market_data\n"
   ]
  },
  {
   "cell_type": "code",
   "execution_count": 32,
   "metadata": {},
   "outputs": [],
   "source": [
    "# Define Time Slices\n",
    "# year = ['1', '2']\n",
    "# month = [m for m in range(1, 13, 1)]\n",
    "# slices = [ f'year{y}month{m}' for y in year for m in month ]\n",
    "\n",
    "# # Break Up into groups of 5 due to Rate Limit\n",
    "# slices_split = [ slices[i:i+5] for i in range(0, len(slices), 5) ]"
   ]
  },
  {
   "cell_type": "code",
   "execution_count": 33,
   "metadata": {},
   "outputs": [
    {
     "data": {
      "text/plain": "[['year1month1', 'year1month2', 'year1month3', 'year1month4', 'year1month5'],\n ['year1month6', 'year1month7', 'year1month8', 'year1month9', 'year1month10'],\n ['year1month11', 'year1month12', 'year2month1', 'year2month2', 'year2month3'],\n ['year2month4', 'year2month5', 'year2month6', 'year2month7', 'year2month8'],\n ['year2month9', 'year2month10', 'year2month11', 'year2month12']]"
     },
     "execution_count": 33,
     "metadata": {},
     "output_type": "execute_result"
    }
   ],
   "source": [
    "# slices_split"
   ]
  },
  {
   "cell_type": "code",
   "execution_count": 30,
   "metadata": {},
   "outputs": [
    {
     "name": "stdout",
     "output_type": "stream",
     "text": [
      "Pulling intraday time series data for time_slice: year1month1\n",
      "Current historic data shape: (352, 6)\n",
      "Made ~5 Calls <1 Min. Wait a Minute...\n"
     ]
    }
   ],
   "source": [
    "# with requests.Session() as s:\n",
    "    \n",
    "#     historic_data = pd.DataFrame()\n",
    "        \n",
    "#     for time_slices in slices_split:\n",
    "\n",
    "#         df_slices = get_time_series_intraday_extended_multi_slice(session=s, \n",
    "#                                                                 sym='AAPL', \n",
    "#                                                                 interval='60min', \n",
    "#                                                                 time_slices=time_slices)\n",
    "#         historic_data = pd.concat([historic_data, df_slices])\n",
    "        \n",
    "#         print(f'Current historic data shape: {historic_data.shape}')\n",
    "#         print('Made ~5 Calls <1 Min. Wait a Minute...')\n",
    "#         time.sleep(60)\n",
    "\n",
    "#         # We are pleased to provide free stock API service for our global community of users \n",
    "#         # for up to 5 API requests per minute and 500 requests per day. If you would like to \n",
    "#         # target a larger API call volume, please visit premium membership.\n",
    "\n",
    "# historic_data = historic_data.reset_index(drop=True)"
   ]
  },
  {
   "cell_type": "code",
   "execution_count": 31,
   "metadata": {},
   "outputs": [],
   "source": [
    "# historic_data.to_csv('../../data/AAPL.csv', index=False)"
   ]
  },
  {
   "cell_type": "code",
   "execution_count": 23,
   "metadata": {},
   "outputs": [
    {
     "data": {
      "text/html": "<div>\n<style scoped>\n    .dataframe tbody tr th:only-of-type {\n        vertical-align: middle;\n    }\n\n    .dataframe tbody tr th {\n        vertical-align: top;\n    }\n\n    .dataframe thead th {\n        text-align: right;\n    }\n</style>\n<table border=\"1\" class=\"dataframe\">\n  <thead>\n    <tr style=\"text-align: right;\">\n      <th></th>\n      <th>time</th>\n      <th>open</th>\n      <th>high</th>\n      <th>low</th>\n      <th>close</th>\n      <th>volume</th>\n    </tr>\n  </thead>\n  <tbody>\n    <tr>\n      <th>0</th>\n      <td>2021-08-06 20:00:00</td>\n      <td>697.810</td>\n      <td>697.970</td>\n      <td>696.8500</td>\n      <td>697.000</td>\n      <td>29387</td>\n    </tr>\n    <tr>\n      <th>1</th>\n      <td>2021-08-06 19:00:00</td>\n      <td>697.980</td>\n      <td>698.000</td>\n      <td>697.7500</td>\n      <td>697.850</td>\n      <td>9846</td>\n    </tr>\n    <tr>\n      <th>2</th>\n      <td>2021-08-06 18:00:00</td>\n      <td>698.500</td>\n      <td>698.500</td>\n      <td>697.7000</td>\n      <td>697.760</td>\n      <td>38563</td>\n    </tr>\n    <tr>\n      <th>3</th>\n      <td>2021-08-06 17:00:00</td>\n      <td>699.100</td>\n      <td>699.100</td>\n      <td>698.0100</td>\n      <td>698.500</td>\n      <td>578804</td>\n    </tr>\n    <tr>\n      <th>4</th>\n      <td>2021-08-06 16:00:00</td>\n      <td>700.400</td>\n      <td>700.700</td>\n      <td>698.0294</td>\n      <td>698.890</td>\n      <td>2334993</td>\n    </tr>\n    <tr>\n      <th>...</th>\n      <td>...</td>\n      <td>...</td>\n      <td>...</td>\n      <td>...</td>\n      <td>...</td>\n      <td>...</td>\n    </tr>\n    <tr>\n      <th>7889</th>\n      <td>2019-08-19 09:00:00</td>\n      <td>44.520</td>\n      <td>44.800</td>\n      <td>44.4500</td>\n      <td>44.602</td>\n      <td>108095</td>\n    </tr>\n    <tr>\n      <th>7890</th>\n      <td>2019-08-19 08:00:00</td>\n      <td>44.490</td>\n      <td>44.704</td>\n      <td>44.4760</td>\n      <td>44.612</td>\n      <td>32600</td>\n    </tr>\n    <tr>\n      <th>7891</th>\n      <td>2019-08-19 07:00:00</td>\n      <td>44.522</td>\n      <td>44.640</td>\n      <td>44.5000</td>\n      <td>44.640</td>\n      <td>20160</td>\n    </tr>\n    <tr>\n      <th>7892</th>\n      <td>2019-08-19 06:00:00</td>\n      <td>44.600</td>\n      <td>44.600</td>\n      <td>44.5680</td>\n      <td>44.580</td>\n      <td>12530</td>\n    </tr>\n    <tr>\n      <th>7893</th>\n      <td>2019-08-19 05:00:00</td>\n      <td>44.200</td>\n      <td>44.796</td>\n      <td>44.2000</td>\n      <td>44.600</td>\n      <td>35010</td>\n    </tr>\n  </tbody>\n</table>\n<p>7894 rows × 6 columns</p>\n</div>",
      "text/plain": "                     time     open     high       low    close   volume\n0     2021-08-06 20:00:00  697.810  697.970  696.8500  697.000    29387\n1     2021-08-06 19:00:00  697.980  698.000  697.7500  697.850     9846\n2     2021-08-06 18:00:00  698.500  698.500  697.7000  697.760    38563\n3     2021-08-06 17:00:00  699.100  699.100  698.0100  698.500   578804\n4     2021-08-06 16:00:00  700.400  700.700  698.0294  698.890  2334993\n...                   ...      ...      ...       ...      ...      ...\n7889  2019-08-19 09:00:00   44.520   44.800   44.4500   44.602   108095\n7890  2019-08-19 08:00:00   44.490   44.704   44.4760   44.612    32600\n7891  2019-08-19 07:00:00   44.522   44.640   44.5000   44.640    20160\n7892  2019-08-19 06:00:00   44.600   44.600   44.5680   44.580    12530\n7893  2019-08-19 05:00:00   44.200   44.796   44.2000   44.600    35010\n\n[7894 rows x 6 columns]"
     },
     "execution_count": 23,
     "metadata": {},
     "output_type": "execute_result"
    }
   ],
   "source": [
    "# historic_data = pd.read_csv('../../data/AAPL.csv')\n",
    "# historic_data"
   ]
  },
  {
   "cell_type": "code",
   "execution_count": null,
   "metadata": {},
   "outputs": [],
   "source": []
  }
 ],
 "metadata": {
  "kernelspec": {
   "display_name": "Python 3.9.6 64-bit ('alchemist': conda)",
   "name": "python396jvsc74a57bd050ec42246a491e152f2804a42c36d5a967d29b4342dad640a9f39d8821b9e002"
  },
  "language_info": {
   "codemirror_mode": {
    "name": "ipython",
    "version": 3
   },
   "file_extension": ".py",
   "mimetype": "text/x-python",
   "name": "python",
   "nbconvert_exporter": "python",
   "pygments_lexer": "ipython3",
   "version": "3.9.6"
  },
  "orig_nbformat": 3
 },
 "nbformat": 4,
 "nbformat_minor": 5
}